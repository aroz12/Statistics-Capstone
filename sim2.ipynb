{
 "cells": [
  {
   "cell_type": "code",
   "execution_count": 3,
   "id": "b8dacf2b",
   "metadata": {},
   "outputs": [],
   "source": [
    "import pandas as pd\n",
    "import ipywidgets as widgets\n",
    "from IPython.display import display\n",
    "from sklearn.model_selection import train_test_split\n",
    "from sklearn.linear_model import LinearRegression\n",
    "import numpy as np"
   ]
  },
  {
   "cell_type": "code",
   "execution_count": 4,
   "id": "0cd0e802",
   "metadata": {},
   "outputs": [],
   "source": [
    "imp = pd.read_csv('/Users/alecasillas/Desktop/COURSES/STA4930/datasets/imputed.csv', encoding= 'utf-8')"
   ]
  },
  {
   "cell_type": "code",
   "execution_count": 5,
   "id": "fb8e1e47",
   "metadata": {},
   "outputs": [],
   "source": [
    "# Load dataset\n",
    "# Replace 'imp.csv' with the actual dataset file path\n",
    "df = imp\n",
    "\n",
    "# Define features and target\n",
    "features = [\"e_gdppc\", \"v2eldonate\", \"v2elpubfin\", \"v2elembaut\", \"v2elrgpwr\", \"v2ellocpwr\", \"v2psbars\", \"v2exrescon\", \"v2cltort\", \"v2caautmob\"]\n",
    "target = \"rescaled\"\n",
    "\n",
    "# Drop rows with missing values\n",
    "df = df.dropna(subset=features + [target])\n",
    "\n",
    "# Train a model\n",
    "X = df[features]\n",
    "y = df[target]\n",
    "X_train, X_test, y_train, y_test = train_test_split(X, y, test_size=0.2, random_state=42)\n",
    "model = LinearRegression()\n",
    "model.fit(X_train, y_train)\n",
    "\n",
    "# Function to filter dataset based on selected country and year\n",
    "def filter_data(country, year):\n",
    "    filtered = df[(df['country_name'] == country) & (df['year'] == year)]\n",
    "    return filtered\n",
    "\n",
    "# Function to predict rescaled score based on inputs\n",
    "def predict_rescaled(feature_values):\n",
    "    feature_array = np.array([feature_values]).reshape(1, -1)\n",
    "    return model.predict(feature_array)[0]\n",
    "\n",
    "# Interactive function\n",
    "def simulate(country, year, **kwargs):\n",
    "    data = filter_data(country, year)\n",
    "    \n",
    "    if data.empty:\n",
    "        display(\"No data available for the selected country and year.\")\n",
    "        return\n",
    "    \n",
    "    original_rescaled = data[target].values[0] if target in data.columns else None\n",
    "    \n",
    "    # Predict rescaled score based on user inputs\n",
    "    feature_values = [kwargs[feature] for feature in features]\n",
    "    predicted_rescaled = predict_rescaled(feature_values)\n",
    "    \n",
    "    display(f\"Original Rescaled Score: {original_rescaled}\")\n",
    "    display(f\"Predicted Rescaled Score: {predicted_rescaled}\")\n",
    "\n",
    "# Dropdowns for country and year\n",
    "country_dropdown = widgets.Dropdown(options=df['country_name'].unique(), description='Country')\n",
    "year_dropdown = widgets.IntSlider(min=df['year'].min(), max=df['year'].max(), step=1, description='Year')\n",
    "\n",
    "# Sliders for feature adjustments\n",
    "def create_feature_sliders(country, year):\n",
    "    data = filter_data(country, year)\n",
    "    sliders = {}\n",
    "    for feature in features:\n",
    "        default_value = data[feature].values[0] if not data.empty and feature in data.columns and pd.notna(data[feature].values[0]) else 0.0\n",
    "        sliders[feature] = widgets.FloatSlider(min=-1, max=1, step=0.1, value=default_value, description=feature)\n",
    "    return sliders\n",
    "\n",
    "def update_sliders(*args):\n",
    "    global feature_sliders\n",
    "    feature_sliders = create_feature_sliders(country_dropdown.value, year_dropdown.value)\n",
    "    display(widgets.VBox(list(feature_sliders.values())))\n",
    "    update_simulation(country_dropdown.value, year_dropdown.value, **{f: s.value for f, s in feature_sliders.items()})\n",
    "\n",
    "feature_sliders = create_feature_sliders(country_dropdown.value, year_dropdown.value)\n",
    "\n",
    "def update_simulation(country, year, **kwargs):\n",
    "    simulate(country, year, **kwargs)\n",
    "\n"
   ]
  },
  {
   "cell_type": "code",
   "execution_count": 6,
   "id": "d5a10374",
   "metadata": {},
   "outputs": [
    {
     "data": {
      "application/vnd.jupyter.widget-view+json": {
       "model_id": "61c19dafac6142d587317764a3a23d57",
       "version_major": 2,
       "version_minor": 0
      },
      "text/plain": [
       "interactive(children=(Dropdown(description='Country', options=('Afghanistan', 'Angola', 'Albania', 'United Ara…"
      ]
     },
     "execution_count": 6,
     "metadata": {},
     "output_type": "execute_result"
    }
   ],
   "source": [
    "# Observe changes in country and year\n",
    "year_dropdown.observe(update_sliders, names='value')\n",
    "country_dropdown.observe(update_sliders, names='value')\n",
    "\n",
    "#display(widgets.VBox([country_dropdown, year_dropdown] + list(feature_sliders.values())))\n",
    "widgets.interactive(update_simulation, country=country_dropdown, year=year_dropdown, **feature_sliders)"
   ]
  }
 ],
 "metadata": {
  "kernelspec": {
   "display_name": "Python 3 (ipykernel)",
   "language": "python",
   "name": "python3"
  },
  "language_info": {
   "codemirror_mode": {
    "name": "ipython",
    "version": 3
   },
   "file_extension": ".py",
   "mimetype": "text/x-python",
   "name": "python",
   "nbconvert_exporter": "python",
   "pygments_lexer": "ipython3",
   "version": "3.11.5"
  }
 },
 "nbformat": 4,
 "nbformat_minor": 5
}
