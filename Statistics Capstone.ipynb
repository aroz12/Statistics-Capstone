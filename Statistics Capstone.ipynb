{
 "cells": [
  {
   "cell_type": "code",
   "execution_count": 274,
   "id": "17d10faa-54a6-4523-bae2-b053613fc7d3",
   "metadata": {},
   "outputs": [],
   "source": [
    "# import packages\n",
    "\n",
    "import pandas as pd\n",
    "import numpy as np\n",
    "import csv\n",
    "import math\n",
    "import plotly\n",
    "import dash\n",
    "from dash import Dash, dcc, html, Input, Output\n",
    "import plotly.express as px\n",
    "import plotly.graph_objects as go"
   ]
  },
  {
   "cell_type": "code",
   "execution_count": 275,
   "id": "452e21dd-9c8e-42eb-ad91-f2c9c04b4cf6",
   "metadata": {},
   "outputs": [
    {
     "name": "stderr",
     "output_type": "stream",
     "text": [
      "/var/folders/rd/8m4_zzhs0pn_c_576285lzcm0000gp/T/ipykernel_92792/658557787.py:3: DtypeWarning:\n",
      "\n",
      "Columns (364,365,366,399,415,804,836,837,924,1240,1257,1486,3094,3168,3169,3341,3342,3344,3345,3347,3350,3352) have mixed types. Specify dtype option on import or set low_memory=False.\n",
      "\n"
     ]
    }
   ],
   "source": [
    "# read in datasets\n",
    "\n",
    "vdem = pd.read_csv('V-Dem-CY-Full+Others-v14.csv', encoding= 'utf-8')\n",
    "bti = pd.read_csv('free-fair-elections-bti.csv', quoting=csv.QUOTE_NONE, encoding= 'utf-8')\n",
    "fiw = pd.read_excel('Country_and_Territory_Ratings_and_Statuses_FIW_1973-2024.xlsx', sheet_name = 'Country Ratings, Statuses ', skiprows = 2)\n",
    "fiw_years = pd.read_excel('Country_and_Territory_Ratings_and_Statuses_FIW_1973-2024.xlsx', sheet_name = 'Country Ratings, Statuses ', skiprows=1, nrows=1, header = None)\n",
    "wrp = pd.read_csv('mutated_NWR.csv', quoting=csv.QUOTE_NONE, encoding= 'utf-8')"
   ]
  },
  {
   "cell_type": "code",
   "execution_count": 276,
   "id": "135406e7-1d78-4ae1-ba4c-ad2bbae506f8",
   "metadata": {},
   "outputs": [],
   "source": [
    "# Remove uneccesary quotation marks from the vdem and wrp datasets\n",
    "\n",
    "vdem = vdem.replace('\"', '', regex=True)\n",
    "new_headers_v = []\n",
    "for header in vdem.columns: \n",
    "    header = header.strip('\"') \n",
    "    new_headers_v.append(header)\n",
    "vdem.columns = new_headers_v\n",
    "new_headers_w = []\n",
    "for header in wrp.columns: \n",
    "    header = header.strip('\"') \n",
    "    new_headers_w.append(header)\n",
    "wrp.columns = new_headers_w"
   ]
  },
  {
   "cell_type": "code",
   "execution_count": 277,
   "id": "c6925d63-63c9-43f9-8b6b-0081351a9974",
   "metadata": {},
   "outputs": [],
   "source": [
    "# Reshape the FIW dataset to align with the format of the other datasets\n",
    "\n",
    "PR = [col for col in fiw.columns if col.startswith('PR')]\n",
    "CL = [col for col in fiw.columns if col.startswith('CL')]\n",
    "Status = [col for col in fiw.columns if col.startswith('Status')]\n",
    "fiw_r = pd.lreshape(fiw, {'PR':PR, 'CL':CL, 'Status':Status})"
   ]
  },
  {
   "cell_type": "code",
   "execution_count": 278,
   "id": "581f0556-e7c3-4275-9654-adfe516e11ff",
   "metadata": {},
   "outputs": [],
   "source": [
    "# Align country names to match among all datasets in the appropriate years\n",
    "\n",
    "country_rename = {\n",
    "    \"Burma/Myanmar\": \"Myanmar (Burma)\",\n",
    "    \"Myanmar\": \"Myanmar (Burma)\",\n",
    "    \"Republic of Vietnam\": \"South Vietnam\",\n",
    "    \"Vietnam, S.\": \"South Vietnam\",\n",
    "    \"Vietnam, N.\": \"North Vietnam\", # add code that says if its before a certain year, change some Vietnams to North Vietnam\n",
    "    \"Yemen, S.\": \"South Yemen\",\n",
    "    \"Yemen, N.\": \"North Yemen\", # add code that says if its before a certain year, change some Yemens to North Yemen\n",
    "    \"Republic of the Congo\": \"Congo (Brazzaville)\",\n",
    "    \"Congo\": \"Congo (Brazzaville)\",\n",
    "    \"Democratic Republic of the Congo \": \"Congo (Kinshasa)\",\n",
    "    \"Germany, W.\": \"West Germany\", # add code that says if its before a certain year, change some Germanies to West Germany\n",
    "    \"Germany, E.\": \"East Germany\", \n",
    "    \"German Democratic Republic\": \"East Germany\",\n",
    "    \"Czechia\": \"Czech Republic\", # add code that says if its before a certain year, change it to Czechoslovakia\n",
    "    \"United States\": \"United States of America\",\n",
    "    \"Cote d'Ivoire\": \"Ivory Coast\",\n",
    "    \"Cabo Verde\": \"Cape Verde\",\n",
    "    \"T√ºrkiye\": \"Turkey\",\n",
    "    \"East Timor\": \"Timor-Leste\",\n",
    "    \"The Gambia\": \"Gambia\"\n",
    "}\n",
    "\n",
    "vdem[\"country_name\"] = vdem[\"country_name\"].replace(country_rename) \n",
    "bti[\"Entity\"] = bti[\"Entity\"].replace(country_rename) \n",
    "fiw_r[\"Country\"] = fiw_r[\"Country\"].replace(country_rename) \n",
    "\n",
    "\n",
    "for i in range(len(vdem)):\n",
    "    if (vdem.loc[i,'country_name'] == 'Vietnam') and (1945 < vdem.loc[i,'year'] <= 1976):\n",
    "        vdem.loc[i,'country_name'] = 'North Vietnam'\n",
    "    if (vdem.loc[i,'country_name'] == 'Yemen') and (1918 < vdem.loc[i,'year'] <= 1990):\n",
    "        vdem.loc[i,'country_name'] = 'North Yemen'\n",
    "    if (vdem.loc[i,'country_name'] == 'Germany') and (1949 < vdem.loc[i,'year'] <= 1990):\n",
    "        vdem.loc[i,'country_name'] = 'West Germany'\n",
    "    if (vdem.loc[i,'country_name'] == 'Czech Republic') and (vdem.loc[i,'year'] < 1993):\n",
    "        vdem.loc[i,'country_name'] = 'Czechoslovakia'"
   ]
  },
  {
   "cell_type": "code",
   "execution_count": 279,
   "id": "69abe0fb-bd63-4ee4-8a16-54a2c13c4b46",
   "metadata": {},
   "outputs": [],
   "source": [
    "# Merge vdem and bti datasets\n",
    "\n",
    "data = vdem.merge(bti[['Entity', 'Year', 'Free and fair elections']], left_on = ['country_name', 'year'], right_on = ['Entity', 'Year'], how = 'left')"
   ]
  },
  {
   "cell_type": "code",
   "execution_count": 280,
   "id": "f6099e22-7e92-405d-8506-2691254c11f5",
   "metadata": {},
   "outputs": [],
   "source": [
    "# Insert Year column back into FIW dataset\n",
    "\n",
    "fiw_r.insert(1, 'Year', '')"
   ]
  },
  {
   "cell_type": "code",
   "execution_count": 281,
   "id": "ba077c88-0ad3-4c94-8e37-3eef2d9c240b",
   "metadata": {},
   "outputs": [],
   "source": [
    "# Reshape FIW Years dataset to prepare for merging\n",
    "\n",
    "fiw_years = fiw_years.transpose()\n",
    "fiw_years.columns = fiw_years.iloc[0]  \n",
    "fiw_years = fiw_years[1:]"
   ]
  },
  {
   "cell_type": "code",
   "execution_count": 282,
   "id": "40494763-3d29-4ffe-886c-24c02c0f321d",
   "metadata": {},
   "outputs": [],
   "source": [
    "# Remove NAs from FIW years dataset\n",
    "\n",
    "fiw_years.dropna(inplace=True)"
   ]
  },
  {
   "cell_type": "code",
   "execution_count": 283,
   "id": "b0125c41-ebd0-4f54-bb71-f330ef7afdf4",
   "metadata": {},
   "outputs": [],
   "source": [
    "# Insert FIW years data back into reshaped FIW dataset\n",
    "\n",
    "mult = 1\n",
    "i = 0\n",
    "while i < len(fiw_r):\n",
    "    while i < mult*205:\n",
    "        fiw_r.loc[i, 'Year'] = fiw_years.iloc[mult-1, 0]\n",
    "        i += 1\n",
    "    mult += 1"
   ]
  },
  {
   "cell_type": "code",
   "execution_count": 284,
   "id": "0fbbf324-12f6-406b-a792-2324b784234c",
   "metadata": {},
   "outputs": [],
   "source": [
    "# Merge FIW dataset into master dataset\n",
    "\n",
    "# maybe dont left join, fiw has data on smaller countries that v-dem doesnt\n",
    "data = data.merge(fiw_r, left_on = ['country_name', 'year'], right_on = ['Country', 'Year'], how = 'left')"
   ]
  },
  {
   "cell_type": "code",
   "execution_count": 285,
   "id": "5741a42a-40ef-4f72-a877-47792d8ed1c5",
   "metadata": {},
   "outputs": [],
   "source": [
    "# Merge WRP dataset into master dataset\n",
    "\n",
    "data = data.merge(wrp, left_on = ['COWcode', 'year'], right_on = ['state', 'year'], how = 'left')"
   ]
  },
  {
   "cell_type": "code",
   "execution_count": 286,
   "id": "a533a270-39b6-440e-ac43-bb31726f5519",
   "metadata": {},
   "outputs": [],
   "source": [
    "# Write rows in wrp that do not match with the master dataset to csv for analysis\n",
    "\n",
    "#non_matching_rows = data[data['name'].isna()]\n",
    "#print(non_matching_rows)\n",
    "#with open('non_matching_rows.txt', 'w+', newline='') as file:\n",
    "#   non_matching_rows.to_csv('non_matching_rows.txt', sep = '\\t', index=False)"
   ]
  },
  {
   "cell_type": "code",
   "execution_count": 287,
   "id": "ee709a38-4a85-440a-89e1-2b8688f853d7",
   "metadata": {},
   "outputs": [],
   "source": [
    "data = data.drop(columns=data.loc[:, 'chrstprot':'pop'].columns)\n",
    "data = data.drop(columns=data.loc[:, 'datatype':'sourcecode'].columns)\n",
    "data = data.drop(columns=data.loc[:, 'historical_date':'gap_index'].columns)\n",
    "data = data.drop(columns=['Entity', 'Year_x', 'Country', 'Year_y', 'state', 'name'])"
   ]
  },
  {
   "cell_type": "code",
   "execution_count": 288,
   "id": "4275e8f5-9d11-4ad3-b2c9-02decd35df7d",
   "metadata": {},
   "outputs": [],
   "source": [
    "data = data.rename(columns={'v2x_civlib':'CivLib', 'v2x_clphy':'Violence', 'v2x_clpol':'PolLib', 'v2x_freexp_altinf':'FreeExpress', 'v2xcl_rol':'LawEqual', 'v2xeg_eqprotec':'EqProtect', 'v2x_corr':'Corrupt_vdem', 'v2x_execorr':'Ecorrupt', 'v2x_pubcorr':'Pubcorrupt', 'v2x_rule':'RuleLaw', 'v2xcl_acjst':'Justice', 'v2xcl_prpty':'Property', 'v2juhcind':'CourtIndep'})"
   ]
  },
  {
   "cell_type": "code",
   "execution_count": 310,
   "id": "1431878a-df6a-4515-8826-57d6067b47ba",
   "metadata": {},
   "outputs": [],
   "source": [
    "for i in range(len(data)):\n",
    "    if (data.loc[i,'country_name'] == 'Russia'):\n",
    "        if (data.loc[i,'year'] <= 1917):\n",
    "            data.loc[i,'country_name'] = 'Russian Empire'\n",
    "        elif (data.loc[i,'year'] <= 1991):\n",
    "            data.loc[i,'country_name'] = 'USSR'\n",
    "    if (data.loc[i,'country_name'] == 'United States of America') and (data.loc[i,'year'] >= 1914):\n",
    "        data.loc[i,'country_name'] = 'United States'\n",
    "    if (data.loc[i,'country_name'] == 'United Kingdom') and (data.loc[i,'year'] < 1938):\n",
    "        data.loc[i,'country_name'] = 'United Kingdom of Great Britain and Ireland'\n",
    "    if (data.loc[i,'country_name'] == 'Brazil') and (data.loc[i,'year'] < 1914):\n",
    "        data.loc[i,'country_name'] = 'Kingdom of Brazil'\n",
    "    if (data.loc[i,'country_name'] == 'Germany') and (data.loc[i,'year'] >= 1914 and data.loc[i,'year'] < 1920):\n",
    "        data.loc[i,'country_name'] = 'German Empire'\n",
    "#    if (data.loc[i,'country_name'] == 'East Germany'):\n",
    "#            data.loc[i,'country_name'] = 'Germany (Soviet)'"
   ]
  },
  {
   "cell_type": "code",
   "execution_count": 290,
   "id": "73a43bad-4d01-4c52-8abc-6d86e74f7947",
   "metadata": {},
   "outputs": [],
   "source": [
    "# Write master dataset to csv\n",
    "\n",
    "data = data[data['year'] >= 1900]\n",
    "data.reset_index(drop=True, inplace=True)\n",
    "with open('capstone_data.csv', 'w+', newline='') as file:\n",
    "   data.to_csv('capstone_data.csv')"
   ]
  },
  {
   "cell_type": "code",
   "execution_count": 291,
   "id": "81951562-cdec-4c25-b501-ad60134c36e5",
   "metadata": {},
   "outputs": [],
   "source": [
    "# RENAME indicato variables\n",
    "#data = data.rename()"
   ]
  },
  {
   "cell_type": "code",
   "execution_count": 306,
   "id": "e008ad9d-95d4-4f5c-a272-6e7dc048aefb",
   "metadata": {
    "scrolled": true
   },
   "outputs": [
    {
     "data": {
      "text/html": [
       "\n",
       "        <iframe\n",
       "            width=\"100%\"\n",
       "            height=\"650\"\n",
       "            src=\"http://127.0.0.1:8050/\"\n",
       "            frameborder=\"0\"\n",
       "            allowfullscreen\n",
       "            \n",
       "        ></iframe>\n",
       "        "
      ],
      "text/plain": [
       "<IPython.lib.display.IFrame at 0x7f9ef7a27e50>"
      ]
     },
     "metadata": {},
     "output_type": "display_data"
    }
   ],
   "source": [
    "# visualization \n",
    "\n",
    "from dash import Dash, dcc, html, Input, Output\n",
    "import plotly.express as px\n",
    "\n",
    "app = Dash(__name__)\n",
    "\n",
    "app.layout = html.Div([\n",
    "    html.H4('Vdem Indicators'),\n",
    "    html.P(\"Select a indicator:\"),\n",
    "    dcc.RadioItems(\n",
    "        id='indicator', \n",
    "        options=[\"CivLib\", \"Violence\", \"PolLib\", \"FreeExpress\", \"LawEqual\", \"EqProtect\", \"Corrupt_vdem\", \"Ecorrupt\", \"Pubcorrupt\", \"RuleLaw\", \"Justice\", \"Property\", \"CourtIndep\", \"nonreligpct\", \"Status\"],\n",
    "        value=\"CivLib\",\n",
    "        inline=True\n",
    "    ),\n",
    "    dcc.Graph(id=\"graph\"),\n",
    "])\n",
    "\n",
    "@app.callback(\n",
    "    Output(\"graph\", \"figure\"), \n",
    "    Input(\"indicator\", \"value\"))\n",
    "def display_choropleth(indicator):\n",
    "    df = data \n",
    "    fig = px.choropleth(\n",
    "        df, color=indicator, hover_name='country_name', locations=\"country_text_id\", animation_frame='year', animation_group ='year',\n",
    "        projection=\"natural earth\")\n",
    "    fig.update_layout(margin={\"r\":0,\"t\":0,\"l\":0,\"b\":0})\n",
    "    return fig\n",
    "\n",
    "app.run_server(debug=True)"
   ]
  },
  {
   "cell_type": "code",
   "execution_count": 312,
   "id": "fcb190a9-3eaa-4141-aa08-e197c84ea266",
   "metadata": {},
   "outputs": [
    {
     "data": {
      "text/html": [
       "\n",
       "        <iframe\n",
       "            width=\"100%\"\n",
       "            height=\"650\"\n",
       "            src=\"http://127.0.0.1:8050/\"\n",
       "            frameborder=\"0\"\n",
       "            allowfullscreen\n",
       "            \n",
       "        ></iframe>\n",
       "        "
      ],
      "text/plain": [
       "<IPython.lib.display.IFrame at 0x7f9ed28ae0a0>"
      ]
     },
     "metadata": {},
     "output_type": "display_data"
    }
   ],
   "source": [
    "# visualization \n",
    "\n",
    "from dash import Dash, dcc, html, Input, Output\n",
    "import plotly.express as px\n",
    "import geopandas as gpd\n",
    "\n",
    "app = Dash(__name__)\n",
    "\n",
    "def load_geojson(year):\n",
    "    with open(f'world_{year}.geojson') as f: \n",
    "        return json.load(f)\n",
    "\n",
    "app.layout = html.Div([\n",
    "    html.H4('Vdem Indicators'),\n",
    "    html.P(\"Select a indicator:\"),\n",
    "    dcc.RadioItems(\n",
    "        id='indicator', \n",
    "        options=[\"CivLib\", \"Violence\", \"PolLib\", \"FreeExpress\", \"LawEqual\", \"EqProtect\", \"Corrupt_vdem\", \"Ecorrupt\", \"Pubcorrupt\", \"RuleLaw\", \"Justice\", \"Property\", \"CourtIndep\", \"nonreligpct\", \"Status\"],\n",
    "        value=\"CivLib\",\n",
    "        inline=True\n",
    "    ),\n",
    "    dcc.Slider(\n",
    "        id='year',\n",
    "        min=1900,  \n",
    "        max=2020,\n",
    "        step=1,\n",
    "        value=1900,  \n",
    "        marks={year: str(year) for year in range(1900, 2021)},\n",
    "        tooltip={\"placement\": \"bottom\", \"always_visible\": True}\n",
    "    ),\n",
    "    dcc.Graph(id=\"graph\"),\n",
    "])\n",
    "\n",
    "update_map_years = np.array([1900, 1914, 1920, 1930, 1938, 1945, 1960, 1994, 2000, 2010])\n",
    "@app.callback(\n",
    "    Output(\"graph\", \"figure\"), \n",
    "    [Input(\"indicator\", \"value\"), Input(\"year\", \"value\")])\n",
    "def display_choropleth(indicator, year): \n",
    "    if (year in update_map_years):\n",
    "        geo = load_geojson(year)\n",
    "    else:\n",
    "        i = len(update_map_years) - 1\n",
    "        while i >= 0 and update_map_years[i] > year:\n",
    "             i -= 1               \n",
    "        geo = load_geojson(update_map_years[i])\n",
    "    df = data\n",
    "    df_year = df[df['year'] == year]\n",
    "    fig = go.Figure(go.Choropleth(\n",
    "        z=df_year[indicator],  \n",
    "        hoverinfo='location+z',  \n",
    "        locations=df_year['country_name'],  #country_text_id #country_name #        locationmode='country names',  #ISO-3 #country names\n",
    "        featureidkey='properties.NAME',\n",
    "        geojson=geo,\n",
    "        colorbar_title=indicator,  \n",
    "    ))\n",
    "    fig.update_geos(fitbounds=\"locations\", projection_type=\"natural earth\")\n",
    "    fig.update_layout(\n",
    "        margin={\"r\":0, \"t\":0, \"l\":0, \"b\":0},\n",
    "        title=f'{indicator} for Year {year}'\n",
    "    )\n",
    "    return fig\n",
    "\n",
    "\n",
    "app.run_server(debug=True)"
   ]
  },
  {
   "cell_type": "code",
   "execution_count": null,
   "id": "bf885edb-bfbc-46cc-be4c-4d196e45a142",
   "metadata": {},
   "outputs": [],
   "source": [
    "geojson = load_geojson(1945)\n",
    "geojson\n",
    "print(geojson[\"features\"][0][\"properties\"])\n",
    "print(geojson[\"features\"][0][\"properties\"])\n",
    "#df = data\n",
    "#df_year = df[df['year'] == 1945]\n",
    "#locations = df_year['country_name']\n",
    "#locations"
   ]
  }
 ],
 "metadata": {
  "kernelspec": {
   "display_name": "Python 3 (ipykernel)",
   "language": "python",
   "name": "python3"
  },
  "language_info": {
   "codemirror_mode": {
    "name": "ipython",
    "version": 3
   },
   "file_extension": ".py",
   "mimetype": "text/x-python",
   "name": "python",
   "nbconvert_exporter": "python",
   "pygments_lexer": "ipython3",
   "version": "3.9.19"
  }
 },
 "nbformat": 4,
 "nbformat_minor": 5
}
