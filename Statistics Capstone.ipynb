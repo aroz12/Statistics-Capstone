{
 "cells": [
  {
   "cell_type": "code",
   "execution_count": 1,
   "id": "17d10faa-54a6-4523-bae2-b053613fc7d3",
   "metadata": {},
   "outputs": [
    {
     "name": "stdout",
     "output_type": "stream",
     "text": [
      "Intel MKL WARNING: Support of Intel(R) Streaming SIMD Extensions 4.2 (Intel(R) SSE4.2) enabled only processors has been deprecated. Intel oneAPI Math Kernel Library 2025.0 will require Intel(R) Advanced Vector Extensions (Intel(R) AVX) instructions.\n",
      "Intel MKL WARNING: Support of Intel(R) Streaming SIMD Extensions 4.2 (Intel(R) SSE4.2) enabled only processors has been deprecated. Intel oneAPI Math Kernel Library 2025.0 will require Intel(R) Advanced Vector Extensions (Intel(R) AVX) instructions.\n"
     ]
    }
   ],
   "source": [
    "import pandas as pd\n",
    "import csv\n",
    "import math"
   ]
  },
  {
   "cell_type": "code",
   "execution_count": 2,
   "id": "452e21dd-9c8e-42eb-ad91-f2c9c04b4cf6",
   "metadata": {},
   "outputs": [
    {
     "name": "stderr",
     "output_type": "stream",
     "text": [
      "/var/folders/rd/8m4_zzhs0pn_c_576285lzcm0000gp/T/ipykernel_16615/1280509826.py:1: DtypeWarning: Columns (364,365,366,399,415,804,836,837,924,1240,1257,1486,3094,3168,3169,3341,3342,3344,3345,3347,3350,3352) have mixed types. Specify dtype option on import or set low_memory=False.\n",
      "  vdem = pd.read_csv('V-Dem-CY-Full+Others-v14.csv', encoding= 'utf-8')\n"
     ]
    }
   ],
   "source": [
    "vdem = pd.read_csv('V-Dem-CY-Full+Others-v14.csv', encoding= 'utf-8')\n",
    "bti = pd.read_csv('free-fair-elections-bti.csv', quoting=csv.QUOTE_NONE, encoding= 'utf-8')\n",
    "fiw = pd.read_excel('Country_and_Territory_Ratings_and_Statuses_FIW_1973-2024.xlsx', sheet_name = 'Country Ratings, Statuses ', skiprows = 2)\n",
    "fiw_years = pd.read_excel('Country_and_Territory_Ratings_and_Statuses_FIW_1973-2024.xlsx', sheet_name = 'Country Ratings, Statuses ', skiprows=1, nrows=1, header = None)"
   ]
  },
  {
   "cell_type": "code",
   "execution_count": 3,
   "id": "135406e7-1d78-4ae1-ba4c-ad2bbae506f8",
   "metadata": {},
   "outputs": [],
   "source": [
    "vdem = vdem.replace('\"', '', regex=True)\n",
    "new_headers = []\n",
    "for header in vdem.columns: \n",
    "    header = header.strip('\"') \n",
    "    new_headers.append(header)\n",
    "vdem.columns = new_headers"
   ]
  },
  {
   "cell_type": "code",
   "execution_count": 4,
   "id": "f1d9f32c-0071-408e-b56b-57855d4016a3",
   "metadata": {},
   "outputs": [],
   "source": [
    "#data = bti.merge(vdem[['country_name', 'year']], left_on = ['Entity', 'Year'], right_on = ['country_name', 'year'], how = 'left')\n",
    "#non_matching_rows = data[data['country_name'].isna()]\n",
    "#print(non_matching_rows)\n",
    "#with open('non_matching_rows.txt', 'w+', newline='') as file:\n",
    "#   non_matching_rows.to_csv('non_matching_rows.txt', sep = '\\t', index=False)"
   ]
  },
  {
   "cell_type": "code",
   "execution_count": 5,
   "id": "c6925d63-63c9-43f9-8b6b-0081351a9974",
   "metadata": {},
   "outputs": [],
   "source": [
    "PR = [col for col in fiw.columns if col.startswith('PR')]\n",
    "CL = [col for col in fiw.columns if col.startswith('CL')]\n",
    "Status = [col for col in fiw.columns if col.startswith('Status')]\n",
    "fiw_r = pd.lreshape(fiw, {'PR':PR, 'CL':CL, 'Status':Status})"
   ]
  },
  {
   "cell_type": "code",
   "execution_count": 6,
   "id": "581f0556-e7c3-4275-9654-adfe516e11ff",
   "metadata": {},
   "outputs": [],
   "source": [
    "country_rename = {\n",
    "    \"Burma/Myanmar\": \"Myanmar (Burma)\",\n",
    "    \"Myanmar\": \"Myanmar (Burma)\",\n",
    "    \"Republic of Vietnam\": \"South Vietnam\",\n",
    "    \"Vietnam, S.\": \"South Vietnam\",\n",
    "    \"Vietnam, N.\": \"North Vietnam\", # add code that says if its before a certain year, change some Vietnams to North Vietnam\n",
    "    \"Yemen, S.\": \"South Yemen\",\n",
    "    \"Yemen, N.\": \"North Yemen\", # add code that says if its before a certain year, change some Yemens to North Yemen\n",
    "    \"Republic of the Congo\": \"Congo (Brazzaville)\",\n",
    "    \"Congo\": \"Congo (Brazzaville)\",\n",
    "    \"Democratic Republic of the Congo \": \"Congo (Kinshasa)\",\n",
    "    \"Germany, W.\": \"West Germany\", # add code that says if its before a certain year, change some Germanies to West Germany\n",
    "    \"Germany, E.\": \"East Germany\", \n",
    "    \"German Democratic Republic\": \"East Germany\",\n",
    "    \"Czechia\": \"Czech Republic\", # add code that says if its before a certain year, change it to Czechoslovakia\n",
    "    \"United States\": \"United States of America\",\n",
    "    \"Cote d'Ivoire\": \"Ivory Coast\",\n",
    "    \"Cabo Verde\": \"Cape Verde\",\n",
    "    \"T√ºrkiye\": \"Turkey\",\n",
    "    \"East Timor\": \"Timor-Leste\",\n",
    "    \"The Gambia\": \"Gambia\"\n",
    "}\n",
    "\n",
    "vdem[\"country_name\"] = vdem[\"country_name\"].map(country_rename)\n",
    "bti[\"Entity\"] = bti[\"Entity\"].map(country_rename)\n",
    "fiw_r[\"Country\"] = fiw_r[\"Country\"].map(country_rename)\n",
    "\n",
    "for i in range(len(vdem)):\n",
    "    if (vdem.loc[i,'country_name'] == 'Vietnam') and (1945 < vdem.loc[i,'year'] <= 1976):\n",
    "        vdem.loc[i,'country_name'] = 'North Vietnam'\n",
    "    if (vdem.loc[i,'country_name'] == 'Yemen') and (1918 < vdem.loc[i,'year'] <= 1990):\n",
    "        vdem.iloc[i,'country_name'] = 'North Yemen'\n",
    "    if (vdem.loc[i,'country_name'] == 'Germany') and (1949 < vdem.loc[i,'year'] <= 1990):\n",
    "        vdem.loc[i,'country_name'] = 'West Germany'\n",
    "    if (vdem.loc[i,'country_name'] == 'Czech Republic') and (vdem.loc[i,'year'] < 1993):\n",
    "        vdem.loc[i,'country_name'] = 'Czechoslovakia'"
   ]
  },
  {
   "cell_type": "code",
   "execution_count": 7,
   "id": "69abe0fb-bd63-4ee4-8a16-54a2c13c4b46",
   "metadata": {},
   "outputs": [],
   "source": [
    "data = vdem.merge(bti[['Entity', 'Year', 'Free and fair elections']], left_on = ['country_name', 'year'], right_on = ['Entity', 'Year'], how = 'left')"
   ]
  },
  {
   "cell_type": "code",
   "execution_count": 8,
   "id": "f6099e22-7e92-405d-8506-2691254c11f5",
   "metadata": {},
   "outputs": [],
   "source": [
    "fiw_r.insert(1, 'Year', '')"
   ]
  },
  {
   "cell_type": "code",
   "execution_count": 9,
   "id": "ba077c88-0ad3-4c94-8e37-3eef2d9c240b",
   "metadata": {},
   "outputs": [],
   "source": [
    "fiw_years = fiw_years.transpose()\n",
    "fiw_years.columns = fiw_years.iloc[0]  \n",
    "fiw_years = fiw_years[1:]"
   ]
  },
  {
   "cell_type": "code",
   "execution_count": 10,
   "id": "85e94df0-31fc-403e-a1d8-ff112dab076d",
   "metadata": {},
   "outputs": [],
   "source": [
    "#year = 0\n",
    "#for i in range(len(fiw_years)):\n",
    "#    if not math.isnan(fiw_years.iloc[i, 0]):\n",
    "#        year = fiw_years.iloc[i, 0]\n",
    "#    if math.isnan(fiw_years.iloc[i, 0]):\n",
    "#        fiw_years.iloc[i, 0] = year"
   ]
  },
  {
   "cell_type": "code",
   "execution_count": 11,
   "id": "40494763-3d29-4ffe-886c-24c02c0f321d",
   "metadata": {},
   "outputs": [],
   "source": [
    "fiw_years.dropna(inplace=True)"
   ]
  },
  {
   "cell_type": "code",
   "execution_count": 12,
   "id": "b0125c41-ebd0-4f54-bb71-f330ef7afdf4",
   "metadata": {},
   "outputs": [],
   "source": [
    "mult = 1\n",
    "i = 0\n",
    "while i < len(fiw_r):\n",
    "    while i < mult*205:\n",
    "        fiw_r.loc[i, 'Year'] = fiw_years.iloc[mult-1, 0]\n",
    "        i += 1\n",
    "    mult += 1"
   ]
  },
  {
   "cell_type": "code",
   "execution_count": null,
   "id": "0fbbf324-12f6-406b-a792-2324b784234c",
   "metadata": {},
   "outputs": [],
   "source": [
    "data = data.merge(fiw_r, left_on = ['country_name', 'year'], right_on = ['Country', 'Year'], how = 'left')"
   ]
  },
  {
   "cell_type": "code",
   "execution_count": null,
   "id": "88767888-26a6-4bf9-9bdd-30988f1a0aa5",
   "metadata": {},
   "outputs": [],
   "source": [
    "#data = fiw_r.merge(vdem[['country_name', 'year']], left_on = ['Country', 'Year'], right_on = ['country_name', 'year'], how = 'left')\n",
    "#non_matching_rows = data[data['country_name'].isna()]\n",
    "#print(non_matching_rows)\n",
    "#with open('non_matching_rows.txt', 'w+', newline='') as file:\n",
    "#   non_matching_rows.to_csv('non_matching_rows.txt', sep = '\\t', index=False)"
   ]
  },
  {
   "cell_type": "code",
   "execution_count": null,
   "id": "a533a270-39b6-440e-ac43-bb31726f5519",
   "metadata": {},
   "outputs": [],
   "source": [
    "non_matching_rows = data[data['Country'].isna()]\n",
    "print(non_matching_rows)\n",
    "with open('non_matching_rows.txt', 'w+', newline='') as file:\n",
    "   non_matching_rows.to_csv('non_matching_rows.txt', sep = '\\t', index=False)"
   ]
  },
  {
   "cell_type": "code",
   "execution_count": null,
   "id": "73a43bad-4d01-4c52-8abc-6d86e74f7947",
   "metadata": {},
   "outputs": [],
   "source": [
    "data\n",
    "with open('capstone_data.csv', 'w+', newline='') as file:\n",
    "   data.to_csv('capstone_data.csv')"
   ]
  }
 ],
 "metadata": {
  "kernelspec": {
   "display_name": "Python 3 (ipykernel)",
   "language": "python",
   "name": "python3"
  },
  "language_info": {
   "codemirror_mode": {
    "name": "ipython",
    "version": 3
   },
   "file_extension": ".py",
   "mimetype": "text/x-python",
   "name": "python",
   "nbconvert_exporter": "python",
   "pygments_lexer": "ipython3",
   "version": "3.9.19"
  }
 },
 "nbformat": 4,
 "nbformat_minor": 5
}
