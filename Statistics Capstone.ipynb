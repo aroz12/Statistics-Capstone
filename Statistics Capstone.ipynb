{
 "cells": [
  {
   "cell_type": "code",
   "execution_count": 196,
   "id": "17d10faa-54a6-4523-bae2-b053613fc7d3",
   "metadata": {},
   "outputs": [],
   "source": [
    "# import packages\n",
    "\n",
    "import pandas as pd\n",
    "import numpy as np\n",
    "import csv\n",
    "import math\n",
    "import plotly\n",
    "import dash\n",
    "from dash import Dash, dcc, html, Input, Output\n",
    "import plotly.express as px"
   ]
  },
  {
   "cell_type": "code",
   "execution_count": 197,
   "id": "452e21dd-9c8e-42eb-ad91-f2c9c04b4cf6",
   "metadata": {},
   "outputs": [
    {
     "name": "stderr",
     "output_type": "stream",
     "text": [
      "/var/folders/rd/8m4_zzhs0pn_c_576285lzcm0000gp/T/ipykernel_2337/658557787.py:3: DtypeWarning:\n",
      "\n",
      "Columns (364,365,366,399,415,804,836,837,924,1240,1257,1486,3094,3168,3169,3341,3342,3344,3345,3347,3350,3352) have mixed types. Specify dtype option on import or set low_memory=False.\n",
      "\n"
     ]
    }
   ],
   "source": [
    "# read in datasets\n",
    "\n",
    "vdem = pd.read_csv('V-Dem-CY-Full+Others-v14.csv', encoding= 'utf-8')\n",
    "bti = pd.read_csv('free-fair-elections-bti.csv', quoting=csv.QUOTE_NONE, encoding= 'utf-8')\n",
    "fiw = pd.read_excel('Country_and_Territory_Ratings_and_Statuses_FIW_1973-2024.xlsx', sheet_name = 'Country Ratings, Statuses ', skiprows = 2)\n",
    "fiw_years = pd.read_excel('Country_and_Territory_Ratings_and_Statuses_FIW_1973-2024.xlsx', sheet_name = 'Country Ratings, Statuses ', skiprows=1, nrows=1, header = None)\n",
    "wrp = pd.read_csv('mutated_NWR.csv', quoting=csv.QUOTE_NONE, encoding= 'utf-8')"
   ]
  },
  {
   "cell_type": "code",
   "execution_count": 198,
   "id": "135406e7-1d78-4ae1-ba4c-ad2bbae506f8",
   "metadata": {},
   "outputs": [],
   "source": [
    "# Remove uneccesary quotation marks from the vdem and wrp datasets\n",
    "\n",
    "vdem = vdem.replace('\"', '', regex=True)\n",
    "new_headers_v = []\n",
    "for header in vdem.columns: \n",
    "    header = header.strip('\"') \n",
    "    new_headers_v.append(header)\n",
    "vdem.columns = new_headers_v\n",
    "new_headers_w = []\n",
    "for header in wrp.columns: \n",
    "    header = header.strip('\"') \n",
    "    new_headers_w.append(header)\n",
    "wrp.columns = new_headers_w"
   ]
  },
  {
   "cell_type": "code",
   "execution_count": 199,
   "id": "c6925d63-63c9-43f9-8b6b-0081351a9974",
   "metadata": {},
   "outputs": [],
   "source": [
    "# Reshape the FIW dataset to align with the format of the other datasets\n",
    "\n",
    "PR = [col for col in fiw.columns if col.startswith('PR')]\n",
    "CL = [col for col in fiw.columns if col.startswith('CL')]\n",
    "Status = [col for col in fiw.columns if col.startswith('Status')]\n",
    "fiw_r = pd.lreshape(fiw, {'PR':PR, 'CL':CL, 'Status':Status})"
   ]
  },
  {
   "cell_type": "code",
   "execution_count": 200,
   "id": "581f0556-e7c3-4275-9654-adfe516e11ff",
   "metadata": {},
   "outputs": [],
   "source": [
    "# Align country names to match among all datasets in the appropriate years\n",
    "\n",
    "country_rename = {\n",
    "    \"Burma/Myanmar\": \"Myanmar (Burma)\",\n",
    "    \"Myanmar\": \"Myanmar (Burma)\",\n",
    "    \"Republic of Vietnam\": \"South Vietnam\",\n",
    "    \"Vietnam, S.\": \"South Vietnam\",\n",
    "    \"Vietnam, N.\": \"North Vietnam\", # add code that says if its before a certain year, change some Vietnams to North Vietnam\n",
    "    \"Yemen, S.\": \"South Yemen\",\n",
    "    \"Yemen, N.\": \"North Yemen\", # add code that says if its before a certain year, change some Yemens to North Yemen\n",
    "    \"Republic of the Congo\": \"Congo (Brazzaville)\",\n",
    "    \"Congo\": \"Congo (Brazzaville)\",\n",
    "    \"Democratic Republic of the Congo \": \"Congo (Kinshasa)\",\n",
    "    \"Germany, W.\": \"West Germany\", # add code that says if its before a certain year, change some Germanies to West Germany\n",
    "    \"Germany, E.\": \"East Germany\", \n",
    "    \"German Democratic Republic\": \"East Germany\",\n",
    "    \"Czechia\": \"Czech Republic\", # add code that says if its before a certain year, change it to Czechoslovakia\n",
    "    \"United States\": \"United States of America\",\n",
    "    \"Cote d'Ivoire\": \"Ivory Coast\",\n",
    "    \"Cabo Verde\": \"Cape Verde\",\n",
    "    \"T√ºrkiye\": \"Turkey\",\n",
    "    \"East Timor\": \"Timor-Leste\",\n",
    "    \"The Gambia\": \"Gambia\"\n",
    "}\n",
    "\n",
    "vdem[\"country_name\"] = vdem[\"country_name\"].replace(country_rename) \n",
    "bti[\"Entity\"] = bti[\"Entity\"].replace(country_rename) \n",
    "fiw_r[\"Country\"] = fiw_r[\"Country\"].replace(country_rename) \n",
    "\n",
    "\n",
    "for i in range(len(vdem)):\n",
    "    if (vdem.loc[i,'country_name'] == 'Vietnam') and (1945 < vdem.loc[i,'year'] <= 1976):\n",
    "        vdem.loc[i,'country_name'] = 'North Vietnam'\n",
    "    if (vdem.loc[i,'country_name'] == 'Yemen') and (1918 < vdem.loc[i,'year'] <= 1990):\n",
    "        vdem.loc[i,'country_name'] = 'North Yemen'\n",
    "    if (vdem.loc[i,'country_name'] == 'Germany') and (1949 < vdem.loc[i,'year'] <= 1990):\n",
    "        vdem.loc[i,'country_name'] = 'West Germany'\n",
    "    if (vdem.loc[i,'country_name'] == 'Czech Republic') and (vdem.loc[i,'year'] < 1993):\n",
    "        vdem.loc[i,'country_name'] = 'Czechoslovakia'"
   ]
  },
  {
   "cell_type": "code",
   "execution_count": 201,
   "id": "69abe0fb-bd63-4ee4-8a16-54a2c13c4b46",
   "metadata": {},
   "outputs": [],
   "source": [
    "# Merge vdem and bti datasets\n",
    "\n",
    "data = vdem.merge(bti[['Entity', 'Year', 'Free and fair elections']], left_on = ['country_name', 'year'], right_on = ['Entity', 'Year'], how = 'left')"
   ]
  },
  {
   "cell_type": "code",
   "execution_count": 202,
   "id": "f6099e22-7e92-405d-8506-2691254c11f5",
   "metadata": {},
   "outputs": [],
   "source": [
    "# Insert Year column back into FIW dataset\n",
    "\n",
    "fiw_r.insert(1, 'Year', '')"
   ]
  },
  {
   "cell_type": "code",
   "execution_count": 203,
   "id": "ba077c88-0ad3-4c94-8e37-3eef2d9c240b",
   "metadata": {},
   "outputs": [],
   "source": [
    "# Reshape FIW Years dataset to prepare for merging\n",
    "\n",
    "fiw_years = fiw_years.transpose()\n",
    "fiw_years.columns = fiw_years.iloc[0]  \n",
    "fiw_years = fiw_years[1:]"
   ]
  },
  {
   "cell_type": "code",
   "execution_count": 204,
   "id": "40494763-3d29-4ffe-886c-24c02c0f321d",
   "metadata": {},
   "outputs": [],
   "source": [
    "# Remove NAs from FIW years dataset\n",
    "\n",
    "fiw_years.dropna(inplace=True)"
   ]
  },
  {
   "cell_type": "code",
   "execution_count": 205,
   "id": "b0125c41-ebd0-4f54-bb71-f330ef7afdf4",
   "metadata": {},
   "outputs": [],
   "source": [
    "# Insert FIW years data back into reshaped FIW dataset\n",
    "\n",
    "mult = 1\n",
    "i = 0\n",
    "while i < len(fiw_r):\n",
    "    while i < mult*205:\n",
    "        fiw_r.loc[i, 'Year'] = fiw_years.iloc[mult-1, 0]\n",
    "        i += 1\n",
    "    mult += 1"
   ]
  },
  {
   "cell_type": "code",
   "execution_count": 206,
   "id": "0fbbf324-12f6-406b-a792-2324b784234c",
   "metadata": {},
   "outputs": [],
   "source": [
    "# Merge FIW dataset into master dataset\n",
    "\n",
    "# maybe dont left join, fiw has data on smaller countries that v-dem doesnt\n",
    "data = data.merge(fiw_r, left_on = ['country_name', 'year'], right_on = ['Country', 'Year'], how = 'left')"
   ]
  },
  {
   "cell_type": "code",
   "execution_count": 208,
   "id": "5741a42a-40ef-4f72-a877-47792d8ed1c5",
   "metadata": {},
   "outputs": [],
   "source": [
    "# Merge WRP dataset into master dataset\n",
    "\n",
    "data = data.merge(wrp, left_on = ['COWcode', 'year'], right_on = ['state', 'year'], how = 'left')"
   ]
  },
  {
   "cell_type": "code",
   "execution_count": 209,
   "id": "a533a270-39b6-440e-ac43-bb31726f5519",
   "metadata": {},
   "outputs": [],
   "source": [
    "# Write rows in wrp that do not match with the master dataset to csv for analysis\n",
    "\n",
    "#non_matching_rows = data[data['name'].isna()]\n",
    "#print(non_matching_rows)\n",
    "#with open('non_matching_rows.txt', 'w+', newline='') as file:\n",
    "#   non_matching_rows.to_csv('non_matching_rows.txt', sep = '\\t', index=False)"
   ]
  },
  {
   "cell_type": "code",
   "execution_count": 210,
   "id": "ee709a38-4a85-440a-89e1-2b8688f853d7",
   "metadata": {},
   "outputs": [],
   "source": [
    "data = data.drop(columns=data.loc[:, 'chrstprot':'pop'].columns)\n",
    "data = data.drop(columns=data.loc[:, 'datatype':'sourcecode'].columns)\n",
    "data = data.drop(columns=data.loc[:, 'historical_date':'gap_index'].columns)\n",
    "data = data.drop(columns=['Entity', 'Year_x', 'Country', 'Year_y', 'state', 'name'])"
   ]
  },
  {
   "cell_type": "code",
   "execution_count": 211,
   "id": "73a43bad-4d01-4c52-8abc-6d86e74f7947",
   "metadata": {},
   "outputs": [],
   "source": [
    "# Write master dataset to csv\n",
    "\n",
    "data = data[data['year'] >= 1900]\n",
    "with open('capstone_data.csv', 'w+', newline='') as file:\n",
    "   data.to_csv('capstone_data.csv')"
   ]
  },
  {
   "cell_type": "code",
   "execution_count": 230,
   "id": "e008ad9d-95d4-4f5c-a272-6e7dc048aefb",
   "metadata": {},
   "outputs": [
    {
     "data": {
      "text/html": [
       "\n",
       "        <iframe\n",
       "            width=\"100%\"\n",
       "            height=\"650\"\n",
       "            src=\"http://127.0.0.1:8050/\"\n",
       "            frameborder=\"0\"\n",
       "            allowfullscreen\n",
       "            \n",
       "        ></iframe>\n",
       "        "
      ],
      "text/plain": [
       "<IPython.lib.display.IFrame at 0x7fd6507e5310>"
      ]
     },
     "metadata": {},
     "output_type": "display_data"
    }
   ],
   "source": [
    "# visualization \n",
    "\n",
    "from dash import Dash, dcc, html, Input, Output\n",
    "import plotly.express as px\n",
    "\n",
    "app = Dash(__name__)\n",
    "\n",
    "app.layout = html.Div([\n",
    "    html.H4('Vdem Indicators'),\n",
    "    html.P(\"Select a indicator:\"),\n",
    "    dcc.RadioItems(\n",
    "        id='indicator', \n",
    "        options=[\"v2x_civlib\", \"v2x_clphy\", \"v2x_clpol\", \"v2x_freexp_altinf\", \"v2xcl_rol\", \"v2xeg_eqprotec\", \"v2x_corr\", \"v2x_execorr\", \"v2x_pubcorr\", \"v2x_rule\", \"v2xcl_acjst\", \"v2xcl_prpty\", \"v2juhcind\", \"nonreligpct\", \"Status\"],\n",
    "        value=\"v2x_corr\",\n",
    "        inline=True\n",
    "    ),\n",
    "    dcc.Graph(id=\"graph\"),\n",
    "])\n",
    "\n",
    "@app.callback(\n",
    "    Output(\"graph\", \"figure\"), \n",
    "    Input(\"indicator\", \"value\"))\n",
    "def display_choropleth(indicator):\n",
    "    df = data \n",
    "    fig = px.choropleth(\n",
    "        df, color=indicator, hover_name='country_name', locations=\"country_text_id\", animation_frame='year', animation_group ='year',\n",
    "        projection=\"natural earth\")\n",
    "    fig.update_layout(margin={\"r\":0,\"t\":0,\"l\":0,\"b\":0})\n",
    "    return fig\n",
    "\n",
    "app.run_server(debug=True)"
   ]
  }
 ],
 "metadata": {
  "kernelspec": {
   "display_name": "Python 3 (ipykernel)",
   "language": "python",
   "name": "python3"
  },
  "language_info": {
   "codemirror_mode": {
    "name": "ipython",
    "version": 3
   },
   "file_extension": ".py",
   "mimetype": "text/x-python",
   "name": "python",
   "nbconvert_exporter": "python",
   "pygments_lexer": "ipython3",
   "version": "3.9.19"
  }
 },
 "nbformat": 4,
 "nbformat_minor": 5
}
